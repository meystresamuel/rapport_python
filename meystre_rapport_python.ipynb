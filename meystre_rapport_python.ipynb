{
 "cells": [
  {
   "attachments": {},
   "cell_type": "markdown",
   "metadata": {},
   "source": [
    "# Rapport - Python par la pratique - Samuel Meystre\n",
    "## Introduction\n",
    "Lors du 2ème semestre de 3ème année, le cours à choix de python par la pratique\n",
    "a été choisi pour pouvoir approfondir dans ce langage de programmation.\n",
    "\n",
    "Car nous avons utilisé ce langage dans le cadre du cours TSA, mais sans \n",
    "aller dans les détails (utilisation uniquement de numpy, matplotlib, scipy ou\n",
    "un autre module python pour le traitement du signal).\n",
    "\n",
    "Le cours Python par la pratique permet de combler ce que nous avions pas vu lors du cours TSA.\n",
    "Notamment avec les règles de programmation (zen de Python), les types de données, Pandas, \n",
    "Click ou encore l'utilisation de templates HTML avec Jinja2."
   ]
  },
  {
   "attachments": {},
   "cell_type": "markdown",
   "metadata": {},
   "source": [
    "## Types de données\n",
    "### Listes\n",
    "Nous avons vu l'utilisation des listes dans python et également vu comment s'en servir."
   ]
  },
  {
   "cell_type": "code",
   "execution_count": 1,
   "metadata": {},
   "outputs": [
    {
     "name": "stdout",
     "output_type": "stream",
     "text": [
      "['Chien', 'Chat', 'Souris', 'Chat', 'Chat', 'Hamster']\n"
     ]
    }
   ],
   "source": [
    "l = []      # Création d'une liste vide\n",
    "l = ['Chien', 'Chat', 'Souris', 'Chat', 'Chat', 'Hamster']\n",
    "print(l)"
   ]
  },
  {
   "cell_type": "code",
   "execution_count": 2,
   "metadata": {},
   "outputs": [
    {
     "name": "stdout",
     "output_type": "stream",
     "text": [
      "['Chien', 'Chat', 'Souris', 'Chat', 'Chat', 'Hamster', 'Cochon']\n"
     ]
    }
   ],
   "source": [
    "# ajout d'un élément dans une liste\n",
    "l.append('Cochon')\n",
    "print(l)"
   ]
  },
  {
   "cell_type": "code",
   "execution_count": 4,
   "metadata": {},
   "outputs": [
    {
     "data": {
      "text/plain": [
       "3"
      ]
     },
     "execution_count": 4,
     "metadata": {},
     "output_type": "execute_result"
    }
   ],
   "source": [
    "# comptage des éléments\n",
    "l.count('Chat')"
   ]
  }
 ],
 "metadata": {
  "kernelspec": {
   "display_name": "Python 3 (ipykernel)",
   "language": "python",
   "name": "python3"
  },
  "language_info": {
   "codemirror_mode": {
    "name": "ipython",
    "version": 3
   },
   "file_extension": ".py",
   "mimetype": "text/x-python",
   "name": "python",
   "nbconvert_exporter": "python",
   "pygments_lexer": "ipython3",
   "version": "3.10.6"
  }
 },
 "nbformat": 4,
 "nbformat_minor": 2
}
