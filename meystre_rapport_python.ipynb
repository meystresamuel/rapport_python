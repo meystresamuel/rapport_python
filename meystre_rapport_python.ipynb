{
 "cells": [
  {
   "attachments": {},
   "cell_type": "markdown",
   "metadata": {},
   "source": [
    "# Rapport - Python par la pratique - Samuel Meystre\n",
    "## Introduction\n",
    "Lors du 2ème semestre de 3ème année, le cours à choix de python par la pratique\n",
    "a été choisi pour pouvoir approfondir dans ce langage de programmation.\n",
    "\n",
    "Car nous avons utilisé ce langage dans le cadre du cours TSA, mais sans \n",
    "aller dans les détails (utilisation uniquement de numpy, matplotlib, scipy ou\n",
    "un autre module python pour le traitement du signal).\n",
    "\n",
    "Le cours Python par la pratique permet de combler ce que nous avions pas vu lors du cours TSA.\n",
    "Notamment avec les règles de programmation (zen de Python), les sructures de données, Pandas, \n",
    "Click ou encore l'utilisation de templates HTML avec Jinja2 et Flask."
   ]
  },
  {
   "attachments": {},
   "cell_type": "markdown",
   "metadata": {},
   "source": [
    "## Structures de données\n",
    "### Scalaires\n",
    "Nous avons vu l'utilisation des scalaires dans python et également vu comment s'en servir."
   ]
  },
  {
   "cell_type": "code",
   "execution_count": 217,
   "metadata": {},
   "outputs": [],
   "source": [
    "i = 9           # integer\n",
    "f = 5.674       # float\n",
    "c = 2 + 3j      # complex\n",
    "s = 'Coucou'    # string\n",
    "b = True        # boolean\n",
    "n = None"
   ]
  },
  {
   "attachments": {},
   "cell_type": "markdown",
   "metadata": {},
   "source": [
    "Le type string ne peut pas être modifié comme montré ci-dessous:"
   ]
  },
  {
   "cell_type": "code",
   "execution_count": 218,
   "metadata": {},
   "outputs": [],
   "source": [
    "# s[1] = 'i'"
   ]
  },
  {
   "attachments": {},
   "cell_type": "markdown",
   "metadata": {},
   "source": [
    "---------------------------------------------------------------------------\n",
    "TypeError                                 Traceback (most recent call last)\n",
    "Cell In[40], line 1\n",
    "----> 1 s[1] = 'i'\n",
    "\n",
    "TypeError: 'str' object does not support item assignment"
   ]
  },
  {
   "attachments": {},
   "cell_type": "markdown",
   "metadata": {},
   "source": [
    "### Conteneurs\n",
    "En plus des scalaires, nous avons vu également les différents conteneurs présents en Python:\n",
    "\n",
    "#### Listes []\n",
    "Les listes peuvent s'apparenter à des tableaux en C.\n",
    "Elles ne sont pas hashable et elles possèdent un itérateur."
   ]
  },
  {
   "cell_type": "code",
   "execution_count": 219,
   "metadata": {},
   "outputs": [
    {
     "name": "stdout",
     "output_type": "stream",
     "text": [
      "['Chien', 'Chat', 'Souris', 'Chat', 'Chat', 'Hamster']\n"
     ]
    }
   ],
   "source": [
    "l = []      # Création d'une liste vide\n",
    "l = ['Chien', 'Chat', 'Souris', 'Chat', 'Chat', 'Hamster']\n",
    "print(l)"
   ]
  },
  {
   "cell_type": "code",
   "execution_count": 220,
   "metadata": {},
   "outputs": [
    {
     "data": {
      "text/plain": [
       "'Hamster'"
      ]
     },
     "execution_count": 220,
     "metadata": {},
     "output_type": "execute_result"
    }
   ],
   "source": [
    "l[-1]"
   ]
  },
  {
   "cell_type": "code",
   "execution_count": 221,
   "metadata": {},
   "outputs": [
    {
     "data": {
      "text/plain": [
       "['Souris', 'Chat']"
      ]
     },
     "execution_count": 221,
     "metadata": {},
     "output_type": "execute_result"
    }
   ],
   "source": [
    "l[2:-2]"
   ]
  },
  {
   "cell_type": "code",
   "execution_count": 222,
   "metadata": {},
   "outputs": [
    {
     "data": {
      "text/plain": [
       "['Chien', 'Souris', 'Chat']"
      ]
     },
     "execution_count": 222,
     "metadata": {},
     "output_type": "execute_result"
    }
   ],
   "source": [
    "l[::2]"
   ]
  },
  {
   "cell_type": "code",
   "execution_count": 223,
   "metadata": {},
   "outputs": [
    {
     "name": "stdout",
     "output_type": "stream",
     "text": [
      "['Chien', 'Chat', 'Souris', 'Chat', 'Chat', 'Hamster', 'Cochon']\n"
     ]
    }
   ],
   "source": [
    "# ajout d'un élément dans une liste\n",
    "l.append('Cochon')\n",
    "print(l)"
   ]
  },
  {
   "cell_type": "code",
   "execution_count": 224,
   "metadata": {},
   "outputs": [
    {
     "data": {
      "text/plain": [
       "3"
      ]
     },
     "execution_count": 224,
     "metadata": {},
     "output_type": "execute_result"
    }
   ],
   "source": [
    "# comptage des éléments\n",
    "l.count('Chat')"
   ]
  },
  {
   "cell_type": "code",
   "execution_count": 225,
   "metadata": {},
   "outputs": [
    {
     "name": "stdout",
     "output_type": "stream",
     "text": [
      "Chien\n",
      "Chat\n",
      "Souris\n"
     ]
    }
   ],
   "source": [
    "# itérateur\n",
    "iterator = iter(l)\n",
    "\n",
    "print(next(iterator)) \n",
    "print(next(iterator)) \n",
    "print(next(iterator)) "
   ]
  },
  {
   "cell_type": "code",
   "execution_count": 226,
   "metadata": {},
   "outputs": [],
   "source": [
    "# hash d'une liste (ERROR)\n",
    "# print(hash(l))"
   ]
  },
  {
   "attachments": {},
   "cell_type": "markdown",
   "metadata": {},
   "source": [
    "---------------------------------------------------------------------------\n",
    "TypeError                                 Traceback (most recent call last)\n",
    "Cell In[29], line 2\n",
    "      1 # hash d'une liste (ERROR)\n",
    "----> 2 print(hash(l))\n",
    "\n",
    "TypeError: unhashable type: 'list'"
   ]
  },
  {
   "attachments": {},
   "cell_type": "markdown",
   "metadata": {},
   "source": [
    "#### Tuples ()\n",
    "Le tuple est un conteneur ressemblant à une liste, mais qui est hashable. Le tuple ne peux pas être modifié\n",
    "et il est itérable."
   ]
  },
  {
   "cell_type": "code",
   "execution_count": 227,
   "metadata": {},
   "outputs": [
    {
     "data": {
      "text/plain": [
       "(1, 2, 3, 4)"
      ]
     },
     "execution_count": 227,
     "metadata": {},
     "output_type": "execute_result"
    }
   ],
   "source": [
    "t = (1,2,3,4)\n",
    "t"
   ]
  },
  {
   "cell_type": "code",
   "execution_count": 228,
   "metadata": {},
   "outputs": [
    {
     "name": "stdout",
     "output_type": "stream",
     "text": [
      "590899387183067792\n"
     ]
    }
   ],
   "source": [
    "# hash d'un tuple\n",
    "print(hash(t))"
   ]
  },
  {
   "cell_type": "code",
   "execution_count": 229,
   "metadata": {},
   "outputs": [
    {
     "name": "stdout",
     "output_type": "stream",
     "text": [
      "1\n",
      "2\n",
      "3\n"
     ]
    }
   ],
   "source": [
    "# itérateur\n",
    "iterator = iter(t)\n",
    "\n",
    "print(next(iterator)) \n",
    "print(next(iterator)) \n",
    "print(next(iterator)) "
   ]
  },
  {
   "cell_type": "code",
   "execution_count": 230,
   "metadata": {},
   "outputs": [],
   "source": [
    "# Modification d'un tuple (ERROR)\n",
    "# t[2] = 0"
   ]
  },
  {
   "attachments": {},
   "cell_type": "markdown",
   "metadata": {},
   "source": [
    "---------------------------------------------------------------------------\n",
    "TypeError                                 Traceback (most recent call last)\n",
    "Cell In[55], line 2\n",
    "      1 # Modification d'un tuple (ERROR)\n",
    "----> 2 t[2] = 0\n",
    "\n",
    "TypeError: 'tuple' object does not support item assignment"
   ]
  },
  {
   "attachments": {},
   "cell_type": "markdown",
   "metadata": {},
   "source": [
    "#### Dictionnaires {}\n",
    "\n",
    "Le dictionnaire est conteneur ayant une clé et une valeur associée à la clé.\n",
    "Les clées sont hashable."
   ]
  },
  {
   "cell_type": "code",
   "execution_count": 231,
   "metadata": {},
   "outputs": [
    {
     "data": {
      "text/plain": [
       "{23: 'vingt-trois', 42: 'La réponse', 95: 'neuf-cinq'}"
      ]
     },
     "execution_count": 231,
     "metadata": {},
     "output_type": "execute_result"
    }
   ],
   "source": [
    "d = {23: 'vingt-trois', 42: 'La réponse', 95: 'neuf-cinq'}\n",
    "d"
   ]
  },
  {
   "cell_type": "code",
   "execution_count": 232,
   "metadata": {},
   "outputs": [
    {
     "data": {
      "text/plain": [
       "dict_items([(23, 'vingt-trois'), (42, 'La réponse'), (95, 'neuf-cinq')])"
      ]
     },
     "execution_count": 232,
     "metadata": {},
     "output_type": "execute_result"
    }
   ],
   "source": [
    "d.items()"
   ]
  },
  {
   "cell_type": "code",
   "execution_count": 233,
   "metadata": {},
   "outputs": [
    {
     "data": {
      "text/plain": [
       "dict_values(['vingt-trois', 'La réponse', 'neuf-cinq'])"
      ]
     },
     "execution_count": 233,
     "metadata": {},
     "output_type": "execute_result"
    }
   ],
   "source": [
    "d.values()"
   ]
  },
  {
   "cell_type": "code",
   "execution_count": 234,
   "metadata": {},
   "outputs": [
    {
     "data": {
      "text/plain": [
       "dict_keys([23, 42, 95])"
      ]
     },
     "execution_count": 234,
     "metadata": {},
     "output_type": "execute_result"
    }
   ],
   "source": [
    "d.keys()"
   ]
  },
  {
   "cell_type": "code",
   "execution_count": 235,
   "metadata": {},
   "outputs": [
    {
     "data": {
      "text/plain": [
       "'La réponse'"
      ]
     },
     "execution_count": 235,
     "metadata": {},
     "output_type": "execute_result"
    }
   ],
   "source": [
    "d[42]"
   ]
  },
  {
   "attachments": {},
   "cell_type": "markdown",
   "metadata": {},
   "source": [
    "#### Set {}\n",
    "\n",
    "Le set est un dictionnaire avec que des clés."
   ]
  },
  {
   "cell_type": "code",
   "execution_count": 236,
   "metadata": {},
   "outputs": [
    {
     "data": {
      "text/plain": [
       "{23, 42, 95}"
      ]
     },
     "execution_count": 236,
     "metadata": {},
     "output_type": "execute_result"
    }
   ],
   "source": [
    "st = {23, 42, 95}\n",
    "st"
   ]
  },
  {
   "attachments": {},
   "cell_type": "markdown",
   "metadata": {},
   "source": [
    "## Fonctions\n",
    "\n",
    "Le langage Python permet de créer ses fonctions."
   ]
  },
  {
   "cell_type": "code",
   "execution_count": 237,
   "metadata": {},
   "outputs": [],
   "source": [
    "def my_func(a, b):\n",
    "    return a**b"
   ]
  },
  {
   "cell_type": "code",
   "execution_count": 238,
   "metadata": {},
   "outputs": [
    {
     "data": {
      "text/plain": [
       "16"
      ]
     },
     "execution_count": 238,
     "metadata": {},
     "output_type": "execute_result"
    }
   ],
   "source": [
    "c = my_func(4, 2)\n",
    "c"
   ]
  },
  {
   "attachments": {},
   "cell_type": "markdown",
   "metadata": {},
   "source": [
    "## Classes\n",
    "\n",
    "Le langage Python est orienté objet. Il permet donc de créer des classes."
   ]
  },
  {
   "cell_type": "code",
   "execution_count": 239,
   "metadata": {},
   "outputs": [],
   "source": [
    "from unidecode import unidecode"
   ]
  },
  {
   "cell_type": "code",
   "execution_count": 240,
   "metadata": {},
   "outputs": [],
   "source": [
    "class my_class:\n",
    "    def __init__(self, words):\n",
    "        self.words = words\n",
    "        self.counter = len(words)\n",
    "    \n",
    "    def __iter__(self):\n",
    "        return self\n",
    "    \n",
    "    def __next__(self):\n",
    "        if self.counter <= 0:\n",
    "            raise ValueError('Plus de mots')\n",
    "        self.counter -= 1\n",
    "        word = self.words[self.counter]\n",
    "        word = unidecode(word)\n",
    "        word = word.upper()\n",
    "        return word"
   ]
  },
  {
   "attachments": {},
   "cell_type": "markdown",
   "metadata": {},
   "source": [
    "#### Ouvrir des fichiers"
   ]
  },
  {
   "cell_type": "code",
   "execution_count": 241,
   "metadata": {},
   "outputs": [],
   "source": [
    "filename = 'mots.txt'\n",
    "\n",
    "fp = open(filename, 'r') # 'w', 'a'\n",
    "fp.read() # Lis tout le fichier\n",
    "fp.readline() # Lis la prochaine ligne\n",
    "fp.readlines() # Lis toutes les lignes \n",
    "fp.close()"
   ]
  },
  {
   "attachments": {},
   "cell_type": "markdown",
   "metadata": {},
   "source": [
    "Ou:"
   ]
  },
  {
   "cell_type": "code",
   "execution_count": 242,
   "metadata": {},
   "outputs": [],
   "source": [
    "words_table = []\n",
    "with open(filename,'r') as fd:\n",
    "    while line := fd.readline():\n",
    "        word = line.split('\\n')[0]\n",
    "        words_table.append(word)"
   ]
  },
  {
   "attachments": {},
   "cell_type": "markdown",
   "metadata": {},
   "source": [
    "#### Instanciation d'une classe"
   ]
  },
  {
   "cell_type": "code",
   "execution_count": 243,
   "metadata": {},
   "outputs": [
    {
     "name": "stdout",
     "output_type": "stream",
     "text": [
      "CHENE\n",
      "FURIEUX\n",
      "LOOPING\n",
      "RUISSEAU\n",
      "BRUTE\n",
      "TRUITE\n"
     ]
    }
   ],
   "source": [
    "mots = my_class(words_table)\n",
    "\n",
    "for k in range(len(words_table)):\n",
    "    print(next(mots))"
   ]
  },
  {
   "attachments": {},
   "cell_type": "markdown",
   "metadata": {},
   "source": [
    "## Tests, destructuration, zip, déréférencement et surcharge\n",
    "\n",
    "### Tests\n",
    "\n",
    "#### in\n",
    "\n",
    "Ce test permet de vérifier si une valeur souhaitée se trouve dans un conteneur"
   ]
  },
  {
   "cell_type": "code",
   "execution_count": 244,
   "metadata": {},
   "outputs": [
    {
     "data": {
      "text/plain": [
       "True"
      ]
     },
     "execution_count": 244,
     "metadata": {},
     "output_type": "execute_result"
    }
   ],
   "source": [
    "l = [1,2,3,4,5,6]\n",
    "5 in l"
   ]
  },
  {
   "cell_type": "code",
   "execution_count": 245,
   "metadata": {},
   "outputs": [
    {
     "data": {
      "text/plain": [
       "False"
      ]
     },
     "execution_count": 245,
     "metadata": {},
     "output_type": "execute_result"
    }
   ],
   "source": [
    "0 in l"
   ]
  },
  {
   "attachments": {},
   "cell_type": "markdown",
   "metadata": {},
   "source": [
    "#### all\n",
    "\n",
    "Retourne `True` si tous les éléments sont vrai"
   ]
  },
  {
   "cell_type": "code",
   "execution_count": 246,
   "metadata": {},
   "outputs": [
    {
     "data": {
      "text/plain": [
       "True"
      ]
     },
     "execution_count": 246,
     "metadata": {},
     "output_type": "execute_result"
    }
   ],
   "source": [
    "la = ['True', True, 1, 'Oiseau']\n",
    "all(la)"
   ]
  },
  {
   "cell_type": "code",
   "execution_count": 247,
   "metadata": {},
   "outputs": [
    {
     "data": {
      "text/plain": [
       "False"
      ]
     },
     "execution_count": 247,
     "metadata": {},
     "output_type": "execute_result"
    }
   ],
   "source": [
    "lna = [78, 'Truite', True, 'Fraise', False]\n",
    "all(lna)"
   ]
  },
  {
   "attachments": {},
   "cell_type": "markdown",
   "metadata": {},
   "source": [
    "#### any\n",
    "\n",
    "Retourn `True` si au moins un élément est vrai"
   ]
  },
  {
   "cell_type": "code",
   "execution_count": 248,
   "metadata": {},
   "outputs": [
    {
     "data": {
      "text/plain": [
       "True"
      ]
     },
     "execution_count": 248,
     "metadata": {},
     "output_type": "execute_result"
    }
   ],
   "source": [
    "any(lna)"
   ]
  },
  {
   "cell_type": "code",
   "execution_count": 249,
   "metadata": {},
   "outputs": [
    {
     "data": {
      "text/plain": [
       "False"
      ]
     },
     "execution_count": 249,
     "metadata": {},
     "output_type": "execute_result"
    }
   ],
   "source": [
    "lnaa = [0,0,0,0,0,0,None,False]\n",
    "any(lnaa)"
   ]
  },
  {
   "attachments": {},
   "cell_type": "markdown",
   "metadata": {},
   "source": [
    "### Destructuration\n",
    "\n",
    "La destructuration en Python permet, par exemple, d'échanger deux valeurs ou de récupérer\n",
    "la valeur de chaque élément d'une liste, d'un tuple ou d'un dictionnaire."
   ]
  },
  {
   "cell_type": "code",
   "execution_count": 250,
   "metadata": {},
   "outputs": [
    {
     "data": {
      "text/plain": [
       "(9, 5)"
      ]
     },
     "execution_count": 250,
     "metadata": {},
     "output_type": "execute_result"
    }
   ],
   "source": [
    "a = 9\n",
    "b = 5\n",
    "a, b"
   ]
  },
  {
   "cell_type": "code",
   "execution_count": 251,
   "metadata": {},
   "outputs": [
    {
     "data": {
      "text/plain": [
       "(5, 9)"
      ]
     },
     "execution_count": 251,
     "metadata": {},
     "output_type": "execute_result"
    }
   ],
   "source": [
    "a, b = b, a\n",
    "a, b    # les valeurs ont été échangée"
   ]
  },
  {
   "cell_type": "code",
   "execution_count": 252,
   "metadata": {},
   "outputs": [
    {
     "data": {
      "text/plain": [
       "(1, 2, 3, 4)"
      ]
     },
     "execution_count": 252,
     "metadata": {},
     "output_type": "execute_result"
    }
   ],
   "source": [
    "l = [1,2,3,4]\n",
    "a,b,c,d = l\n",
    "a,b,c,d"
   ]
  },
  {
   "cell_type": "code",
   "execution_count": 253,
   "metadata": {},
   "outputs": [
    {
     "data": {
      "text/plain": [
       "(51, 42)"
      ]
     },
     "execution_count": 253,
     "metadata": {},
     "output_type": "execute_result"
    }
   ],
   "source": [
    "d = {51: 'Apéro', 42: 'Réponse'}\n",
    "a, b = d\n",
    "a, b"
   ]
  },
  {
   "attachments": {},
   "cell_type": "markdown",
   "metadata": {},
   "source": [
    "Faire `a, b = d` ne prend que les clés du dictionnaire. Pour avoir les valeurs, voici ce qu'il faut faire:"
   ]
  },
  {
   "cell_type": "code",
   "execution_count": 254,
   "metadata": {},
   "outputs": [
    {
     "data": {
      "text/plain": [
       "('Apéro', 'Réponse')"
      ]
     },
     "execution_count": 254,
     "metadata": {},
     "output_type": "execute_result"
    }
   ],
   "source": [
    "a, b = d.values()\n",
    "a, b"
   ]
  },
  {
   "attachments": {},
   "cell_type": "markdown",
   "metadata": {},
   "source": [
    "La déstructuration d'une liste fonctionne aussi avec l'opérateur `*`. Suivant sa position, cela permet de récupérer, par exemple, la première valeur de la liste puis tout le reste dans une nouvelle variable/liste."
   ]
  },
  {
   "cell_type": "code",
   "execution_count": 255,
   "metadata": {},
   "outputs": [
    {
     "name": "stdout",
     "output_type": "stream",
     "text": [
      "1\n",
      "[2, 3, 4]\n"
     ]
    }
   ],
   "source": [
    "head, *reste = l\n",
    "print(head)\n",
    "print(reste)"
   ]
  },
  {
   "cell_type": "code",
   "execution_count": 256,
   "metadata": {},
   "outputs": [
    {
     "name": "stdout",
     "output_type": "stream",
     "text": [
      "[1, 2, 3]\n",
      "4\n"
     ]
    }
   ],
   "source": [
    "*head, reste = l\n",
    "print(head)\n",
    "print(reste)"
   ]
  },
  {
   "attachments": {},
   "cell_type": "markdown",
   "metadata": {},
   "source": [
    "En plus de tout cela, la desctructuration permet également d'extraire l'indice d'une valeur dans une boucle `for`."
   ]
  },
  {
   "cell_type": "code",
   "execution_count": 257,
   "metadata": {},
   "outputs": [
    {
     "name": "stdout",
     "output_type": "stream",
     "text": [
      "Indices: 0, Valeurs: 1\n",
      "Indices: 1, Valeurs: 2\n",
      "Indices: 2, Valeurs: 3\n",
      "Indices: 3, Valeurs: 4\n"
     ]
    }
   ],
   "source": [
    "for i, v in enumerate(l):\n",
    "    print(f'Indices: {i}, Valeurs: {v}')"
   ]
  },
  {
   "attachments": {},
   "cell_type": "markdown",
   "metadata": {},
   "source": [
    "### Zip\n",
    "Cet opérateur permet de \"fusionner\" deux listes ensemble."
   ]
  },
  {
   "cell_type": "code",
   "execution_count": 258,
   "metadata": {},
   "outputs": [
    {
     "data": {
      "text/plain": [
       "[('John', 'Doe'), ('Emmet', 'Brown'), ('Luke', 'Skywalker')]"
      ]
     },
     "execution_count": 258,
     "metadata": {},
     "output_type": "execute_result"
    }
   ],
   "source": [
    "firstnames = ['John', 'Emmet', 'Luke']\n",
    "lastnames = ['Doe', 'Brown', 'Skywalker']\n",
    "\n",
    "list(zip(firstnames, lastnames))"
   ]
  },
  {
   "attachments": {},
   "cell_type": "markdown",
   "metadata": {},
   "source": [
    "Pour que ce soit plus joli à l'affichage:"
   ]
  },
  {
   "cell_type": "code",
   "execution_count": 259,
   "metadata": {},
   "outputs": [
    {
     "data": {
      "text/plain": [
       "['John Doe', 'Emmet Brown', 'Luke Skywalker']"
      ]
     },
     "execution_count": 259,
     "metadata": {},
     "output_type": "execute_result"
    }
   ],
   "source": [
    "[' '.join(x) for x in list(zip(firstnames, lastnames))]"
   ]
  },
  {
   "attachments": {},
   "cell_type": "markdown",
   "metadata": {},
   "source": [
    "### Déréférencement\n",
    "Le déréférencement se fait à l'aide de `*args` ou `**kwargs` dans une fonction. Cela permet de récupéréer tous les arguments entrés dans la fonction"
   ]
  },
  {
   "cell_type": "code",
   "execution_count": 260,
   "metadata": {},
   "outputs": [],
   "source": [
    "def foo(*args, **kwargs):\n",
    "    print(args)\n",
    "    print(kwargs)"
   ]
  },
  {
   "cell_type": "code",
   "execution_count": 261,
   "metadata": {},
   "outputs": [
    {
     "name": "stdout",
     "output_type": "stream",
     "text": [
      "(8, 2, 3, 'pamplemousse', 42)\n",
      "{}\n"
     ]
    }
   ],
   "source": [
    "foo(8,2,3,'pamplemousse',42)"
   ]
  },
  {
   "attachments": {},
   "cell_type": "markdown",
   "metadata": {},
   "source": [
    "Une fonction utilisant le `**kwargs`:"
   ]
  },
  {
   "cell_type": "code",
   "execution_count": 262,
   "metadata": {},
   "outputs": [],
   "source": [
    "def operate(a, b, **kwargs):\n",
    "    if 'add' in kwargs:\n",
    "        print(f'{a}+{b} = {a+b}')\n",
    "    if 'sub' in kwargs:\n",
    "        print(f'{a}-{b} = {a-b}')"
   ]
  },
  {
   "cell_type": "code",
   "execution_count": 263,
   "metadata": {},
   "outputs": [
    {
     "name": "stdout",
     "output_type": "stream",
     "text": [
      "5+4 = 9\n",
      "5-4 = 1\n"
     ]
    }
   ],
   "source": [
    "operate(5, 4, add=True)\n",
    "operate(5, 4, sub=True)"
   ]
  },
  {
   "attachments": {},
   "cell_type": "markdown",
   "metadata": {},
   "source": [
    "### Surcharge\n",
    "La surcharge d'un opérateur permet de se passer, dans le cadre d'une classe, de l'appel de la fonction addition, par exemple."
   ]
  },
  {
   "cell_type": "code",
   "execution_count": 264,
   "metadata": {},
   "outputs": [],
   "source": [
    "class Number:\n",
    "    def __init__(self, number):\n",
    "        self.number = number\n",
    "    def __add__(self, number):\n",
    "        self.number += number"
   ]
  },
  {
   "cell_type": "code",
   "execution_count": 265,
   "metadata": {},
   "outputs": [
    {
     "data": {
      "text/plain": [
       "42"
      ]
     },
     "execution_count": 265,
     "metadata": {},
     "output_type": "execute_result"
    }
   ],
   "source": [
    "n = Number(42)\n",
    "n.number"
   ]
  },
  {
   "cell_type": "code",
   "execution_count": 266,
   "metadata": {},
   "outputs": [
    {
     "data": {
      "text/plain": [
       "51"
      ]
     },
     "execution_count": 266,
     "metadata": {},
     "output_type": "execute_result"
    }
   ],
   "source": [
    "n + 9\n",
    "n.number"
   ]
  },
  {
   "attachments": {},
   "cell_type": "markdown",
   "metadata": {},
   "source": [
    "## Compréhension, lambda, map et filter\n",
    "### Compréhension\n",
    "La compréhension permet de travailler avec une liste sans devoir passer par une boucle `for` et donc, d'optimiser le code."
   ]
  },
  {
   "cell_type": "code",
   "execution_count": 267,
   "metadata": {},
   "outputs": [
    {
     "data": {
      "text/plain": [
       "['Chat', 'Souris', 'Chien', 'Souris', 'Chat']"
      ]
     },
     "execution_count": 267,
     "metadata": {},
     "output_type": "execute_result"
    }
   ],
   "source": [
    "l = ['Chat','Souris','Chien','Souris','Chat']\n",
    "l"
   ]
  },
  {
   "attachments": {},
   "cell_type": "markdown",
   "metadata": {},
   "source": [
    "Admettons qu'il faut changer \"Chat\" par \"Tom\". En compréhension cela donne:"
   ]
  },
  {
   "cell_type": "code",
   "execution_count": 268,
   "metadata": {},
   "outputs": [
    {
     "data": {
      "text/plain": [
       "['Tom', 'Souris', 'Chien', 'Souris', 'Tom']"
      ]
     },
     "execution_count": 268,
     "metadata": {},
     "output_type": "execute_result"
    }
   ],
   "source": [
    "nl = ['Tom' if x=='Chat' else x for x in l]\n",
    "nl"
   ]
  },
  {
   "attachments": {},
   "cell_type": "markdown",
   "metadata": {},
   "source": [
    "### Lambda\n",
    "`lambda` est une fonction Python contenant qu'une seule expression. Elle permet de faire des fonctions simple si \n",
    "la compréhension deviet trop complexe."
   ]
  },
  {
   "cell_type": "code",
   "execution_count": 269,
   "metadata": {},
   "outputs": [
    {
     "data": {
      "text/plain": [
       "8"
      ]
     },
     "execution_count": 269,
     "metadata": {},
     "output_type": "execute_result"
    }
   ],
   "source": [
    "x = lambda a, b : a**b\n",
    "res = x(2, 3)\n",
    "res"
   ]
  },
  {
   "attachments": {},
   "cell_type": "markdown",
   "metadata": {},
   "source": [
    "### Map\n",
    "`map` est une fonction qui retourne un itérable du résultat."
   ]
  },
  {
   "cell_type": "code",
   "execution_count": 270,
   "metadata": {},
   "outputs": [
    {
     "name": "stdout",
     "output_type": "stream",
     "text": [
      "[2, 4, 6, 8]\n"
     ]
    }
   ],
   "source": [
    "def double_num(n):\n",
    "    return n + n\n",
    "\n",
    "t = (1, 2, 3, 4)\n",
    "\n",
    "res = map(double_num, t)\n",
    "print(list(res))"
   ]
  },
  {
   "attachments": {},
   "cell_type": "markdown",
   "metadata": {},
   "source": [
    "La fonction `map`peut être utilisée avec `lambda` pour afficher, par exemple, directement le résultat sans passer par une fonction."
   ]
  },
  {
   "cell_type": "code",
   "execution_count": 271,
   "metadata": {},
   "outputs": [
    {
     "name": "stdout",
     "output_type": "stream",
     "text": [
      "[10, 12, 14, 16]\n"
     ]
    }
   ],
   "source": [
    "t = (5, 6, 7, 8)\n",
    "res = map(lambda x: x + x, t)\n",
    "print(list(res))"
   ]
  },
  {
   "attachments": {},
   "cell_type": "markdown",
   "metadata": {},
   "source": [
    "### Filter\n",
    "La fonction `filter` permet de filtrer des éléments d'un conteneur selon une condition donnée.\n",
    "Comme pour `map`, `filter`peut être directement utilisé avec `lambda`, ce qui est le cas usuellement dans la programmation en Python"
   ]
  },
  {
   "cell_type": "code",
   "execution_count": 272,
   "metadata": {},
   "outputs": [
    {
     "data": {
      "text/plain": [
       "['souris', 'oiseau', 'ornythorynque']"
      ]
     },
     "execution_count": 272,
     "metadata": {},
     "output_type": "execute_result"
    }
   ],
   "source": [
    "mots = ['souris', 'chat', 'chien', 'singe', 'oiseau', 'ornythorynque']\n",
    "thr = 6\n",
    "mots_tri = list(filter(lambda x: len(x) >= thr, mots))\n",
    "mots_tri"
   ]
  },
  {
   "attachments": {},
   "cell_type": "markdown",
   "metadata": {},
   "source": [
    "## Namedtuple\n",
    "Le module `namedtuple` permet de faire des `tuple` "
   ]
  }
 ],
 "metadata": {
  "kernelspec": {
   "display_name": "Python 3 (ipykernel)",
   "language": "python",
   "name": "python3"
  },
  "language_info": {
   "codemirror_mode": {
    "name": "ipython",
    "version": 3
   },
   "file_extension": ".py",
   "mimetype": "text/x-python",
   "name": "python",
   "nbconvert_exporter": "python",
   "pygments_lexer": "ipython3",
   "version": "3.10.6"
  }
 },
 "nbformat": 4,
 "nbformat_minor": 2
}
