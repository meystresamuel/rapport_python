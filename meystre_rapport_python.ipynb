{
 "cells": [
  {
   "attachments": {},
   "cell_type": "markdown",
   "metadata": {},
   "source": [
    "# Rapport - Python par la pratique - Samuel Meystre\n",
    "## Introduction\n",
    "Lors du 2ème semestre de 3ème année, le cours à choix de python par la pratique\n",
    "a été choisi pour pouvoir approfondir dans ce langage de programmation.\n",
    "\n",
    "Car nous avons utilisé ce langage dans le cadre du cours TSA, mais sans \n",
    "aller dans les détails (utilisation uniquement de numpy, matplotlib, scipy ou\n",
    "un autre module python pour le traitement du signal).\n",
    "\n",
    "Le cours Python par la pratique permet de combler ce que nous avions pas vu lors du cours TSA.\n",
    "Notamment avec les règles de programmation (zen de Python), les sructures de données, Pandas, \n",
    "Click ou encore l'utilisation de templates HTML avec Jinja2 et Flask."
   ]
  },
  {
   "attachments": {},
   "cell_type": "markdown",
   "metadata": {},
   "source": [
    "## Structures de données\n",
    "### Scalaires\n",
    "Nous avons vu l'utilisation des scalaires dans python et également vu comment s'en servir."
   ]
  },
  {
   "cell_type": "code",
   "execution_count": 839,
   "metadata": {},
   "outputs": [],
   "source": [
    "i = 9           # integer\n",
    "f = 5.674       # float\n",
    "c = 2 + 3j      # complex\n",
    "s = 'Coucou'    # string\n",
    "b = True        # boolean\n",
    "n = None"
   ]
  },
  {
   "attachments": {},
   "cell_type": "markdown",
   "metadata": {},
   "source": [
    "Le type string ne peut pas être modifié comme montré ci-dessous:"
   ]
  },
  {
   "cell_type": "code",
   "execution_count": 840,
   "metadata": {},
   "outputs": [],
   "source": [
    "# s[1] = 'i'"
   ]
  },
  {
   "attachments": {},
   "cell_type": "markdown",
   "metadata": {},
   "source": [
    "---------------------------------------------------------------------------\n",
    "TypeError                                 Traceback (most recent call last)\n",
    "Cell In[40], line 1\n",
    "----> 1 s[1] = 'i'\n",
    "\n",
    "TypeError: 'str' object does not support item assignment"
   ]
  },
  {
   "attachments": {},
   "cell_type": "markdown",
   "metadata": {},
   "source": [
    "### Conteneurs\n",
    "En plus des scalaires, nous avons vu également les différents conteneurs présents en Python:\n",
    "\n",
    "#### Listes []\n",
    "Les listes peuvent s'apparenter à des tableaux en C.\n",
    "Elles ne sont pas hashable et elles possèdent un itérateur."
   ]
  },
  {
   "cell_type": "code",
   "execution_count": 841,
   "metadata": {},
   "outputs": [
    {
     "name": "stdout",
     "output_type": "stream",
     "text": [
      "['Chien', 'Chat', 'Souris', 'Chat', 'Chat', 'Hamster']\n"
     ]
    }
   ],
   "source": [
    "l = []      # Création d'une liste vide\n",
    "l = ['Chien', 'Chat', 'Souris', 'Chat', 'Chat', 'Hamster']\n",
    "print(l)"
   ]
  },
  {
   "cell_type": "code",
   "execution_count": 842,
   "metadata": {},
   "outputs": [
    {
     "data": {
      "text/plain": [
       "'Hamster'"
      ]
     },
     "execution_count": 842,
     "metadata": {},
     "output_type": "execute_result"
    }
   ],
   "source": [
    "l[-1]"
   ]
  },
  {
   "cell_type": "code",
   "execution_count": 843,
   "metadata": {},
   "outputs": [
    {
     "data": {
      "text/plain": [
       "['Souris', 'Chat']"
      ]
     },
     "execution_count": 843,
     "metadata": {},
     "output_type": "execute_result"
    }
   ],
   "source": [
    "l[2:-2]"
   ]
  },
  {
   "cell_type": "code",
   "execution_count": 844,
   "metadata": {},
   "outputs": [
    {
     "data": {
      "text/plain": [
       "['Chien', 'Souris', 'Chat']"
      ]
     },
     "execution_count": 844,
     "metadata": {},
     "output_type": "execute_result"
    }
   ],
   "source": [
    "l[::2]"
   ]
  },
  {
   "cell_type": "code",
   "execution_count": 845,
   "metadata": {},
   "outputs": [
    {
     "name": "stdout",
     "output_type": "stream",
     "text": [
      "['Chien', 'Chat', 'Souris', 'Chat', 'Chat', 'Hamster', 'Cochon']\n"
     ]
    }
   ],
   "source": [
    "# ajout d'un élément dans une liste\n",
    "l.append('Cochon')\n",
    "print(l)"
   ]
  },
  {
   "cell_type": "code",
   "execution_count": 846,
   "metadata": {},
   "outputs": [
    {
     "data": {
      "text/plain": [
       "3"
      ]
     },
     "execution_count": 846,
     "metadata": {},
     "output_type": "execute_result"
    }
   ],
   "source": [
    "# comptage des éléments\n",
    "l.count('Chat')"
   ]
  },
  {
   "cell_type": "code",
   "execution_count": 847,
   "metadata": {},
   "outputs": [
    {
     "name": "stdout",
     "output_type": "stream",
     "text": [
      "Chien\n",
      "Chat\n",
      "Souris\n"
     ]
    }
   ],
   "source": [
    "# itérateur\n",
    "iterator = iter(l)\n",
    "\n",
    "print(next(iterator)) \n",
    "print(next(iterator)) \n",
    "print(next(iterator)) "
   ]
  },
  {
   "cell_type": "code",
   "execution_count": 848,
   "metadata": {},
   "outputs": [],
   "source": [
    "# hash d'une liste (ERROR)\n",
    "# print(hash(l))"
   ]
  },
  {
   "attachments": {},
   "cell_type": "markdown",
   "metadata": {},
   "source": [
    "---------------------------------------------------------------------------\n",
    "TypeError                                 Traceback (most recent call last)\n",
    "Cell In[29], line 2\n",
    "      1 # hash d'une liste (ERROR)\n",
    "----> 2 print(hash(l))\n",
    "\n",
    "TypeError: unhashable type: 'list'"
   ]
  },
  {
   "attachments": {},
   "cell_type": "markdown",
   "metadata": {},
   "source": [
    "#### Tuples ()\n",
    "Le tuple est un conteneur ressemblant à une liste, mais qui est hashable. Le tuple ne peut pas être modifié\n",
    "et il est itérable."
   ]
  },
  {
   "cell_type": "code",
   "execution_count": 849,
   "metadata": {},
   "outputs": [
    {
     "data": {
      "text/plain": [
       "(1, 2, 3, 4)"
      ]
     },
     "execution_count": 849,
     "metadata": {},
     "output_type": "execute_result"
    }
   ],
   "source": [
    "t = (1,2,3,4)\n",
    "t"
   ]
  },
  {
   "cell_type": "code",
   "execution_count": 850,
   "metadata": {},
   "outputs": [
    {
     "name": "stdout",
     "output_type": "stream",
     "text": [
      "590899387183067792\n"
     ]
    }
   ],
   "source": [
    "# hash d'un tuple\n",
    "print(hash(t))"
   ]
  },
  {
   "cell_type": "code",
   "execution_count": 851,
   "metadata": {},
   "outputs": [
    {
     "name": "stdout",
     "output_type": "stream",
     "text": [
      "1\n",
      "2\n",
      "3\n"
     ]
    }
   ],
   "source": [
    "# itérateur\n",
    "iterator = iter(t)\n",
    "\n",
    "print(next(iterator)) \n",
    "print(next(iterator)) \n",
    "print(next(iterator)) "
   ]
  },
  {
   "cell_type": "code",
   "execution_count": 852,
   "metadata": {},
   "outputs": [],
   "source": [
    "# Modification d'un tuple (ERROR)\n",
    "# t[2] = 0"
   ]
  },
  {
   "attachments": {},
   "cell_type": "markdown",
   "metadata": {},
   "source": [
    "---------------------------------------------------------------------------\n",
    "TypeError                                 Traceback (most recent call last)\n",
    "Cell In[55], line 2\n",
    "      1 # Modification d'un tuple (ERROR)\n",
    "----> 2 t[2] = 0\n",
    "\n",
    "TypeError: 'tuple' object does not support item assignment"
   ]
  },
  {
   "attachments": {},
   "cell_type": "markdown",
   "metadata": {},
   "source": [
    "#### Dictionnaires {}\n",
    "\n",
    "Le dictionnaire est conteneur ayant une clé et une valeur associée à la clé.\n",
    "Les clées sont hashable."
   ]
  },
  {
   "cell_type": "code",
   "execution_count": 853,
   "metadata": {},
   "outputs": [
    {
     "data": {
      "text/plain": [
       "{23: 'vingt-trois', 42: 'La réponse', 95: 'neuf-cinq'}"
      ]
     },
     "execution_count": 853,
     "metadata": {},
     "output_type": "execute_result"
    }
   ],
   "source": [
    "d = {23: 'vingt-trois', 42: 'La réponse', 95: 'neuf-cinq'}\n",
    "d"
   ]
  },
  {
   "cell_type": "code",
   "execution_count": 854,
   "metadata": {},
   "outputs": [
    {
     "data": {
      "text/plain": [
       "dict_items([(23, 'vingt-trois'), (42, 'La réponse'), (95, 'neuf-cinq')])"
      ]
     },
     "execution_count": 854,
     "metadata": {},
     "output_type": "execute_result"
    }
   ],
   "source": [
    "d.items()"
   ]
  },
  {
   "cell_type": "code",
   "execution_count": 855,
   "metadata": {},
   "outputs": [
    {
     "data": {
      "text/plain": [
       "dict_values(['vingt-trois', 'La réponse', 'neuf-cinq'])"
      ]
     },
     "execution_count": 855,
     "metadata": {},
     "output_type": "execute_result"
    }
   ],
   "source": [
    "d.values()"
   ]
  },
  {
   "cell_type": "code",
   "execution_count": 856,
   "metadata": {},
   "outputs": [
    {
     "data": {
      "text/plain": [
       "dict_keys([23, 42, 95])"
      ]
     },
     "execution_count": 856,
     "metadata": {},
     "output_type": "execute_result"
    }
   ],
   "source": [
    "d.keys()"
   ]
  },
  {
   "cell_type": "code",
   "execution_count": 857,
   "metadata": {},
   "outputs": [
    {
     "data": {
      "text/plain": [
       "'La réponse'"
      ]
     },
     "execution_count": 857,
     "metadata": {},
     "output_type": "execute_result"
    }
   ],
   "source": [
    "d[42]"
   ]
  },
  {
   "attachments": {},
   "cell_type": "markdown",
   "metadata": {},
   "source": [
    "#### Set {}\n",
    "\n",
    "Le set est un dictionnaire avec que des clés."
   ]
  },
  {
   "cell_type": "code",
   "execution_count": 858,
   "metadata": {},
   "outputs": [
    {
     "data": {
      "text/plain": [
       "{23, 42, 95}"
      ]
     },
     "execution_count": 858,
     "metadata": {},
     "output_type": "execute_result"
    }
   ],
   "source": [
    "st = {23, 42, 95}\n",
    "st"
   ]
  },
  {
   "attachments": {},
   "cell_type": "markdown",
   "metadata": {},
   "source": [
    "## Fonctions\n",
    "\n",
    "Le langage Python permet de créer ses fonctions."
   ]
  },
  {
   "cell_type": "code",
   "execution_count": 859,
   "metadata": {},
   "outputs": [],
   "source": [
    "def my_func(a, b):\n",
    "    return a**b"
   ]
  },
  {
   "cell_type": "code",
   "execution_count": 860,
   "metadata": {},
   "outputs": [
    {
     "data": {
      "text/plain": [
       "16"
      ]
     },
     "execution_count": 860,
     "metadata": {},
     "output_type": "execute_result"
    }
   ],
   "source": [
    "c = my_func(4, 2)\n",
    "c"
   ]
  },
  {
   "attachments": {},
   "cell_type": "markdown",
   "metadata": {},
   "source": [
    "## Classes\n",
    "\n",
    "Le langage Python est orienté objet. Il permet donc de créer des classes."
   ]
  },
  {
   "cell_type": "code",
   "execution_count": 861,
   "metadata": {},
   "outputs": [],
   "source": [
    "from unidecode import unidecode"
   ]
  },
  {
   "cell_type": "code",
   "execution_count": 862,
   "metadata": {},
   "outputs": [],
   "source": [
    "class my_class:\n",
    "    def __init__(self, words):\n",
    "        self.words = words\n",
    "        self.counter = len(words)\n",
    "    \n",
    "    def __iter__(self):\n",
    "        return self\n",
    "    \n",
    "    def __next__(self):\n",
    "        if self.counter <= 0:\n",
    "            raise ValueError('Plus de mots')\n",
    "        self.counter -= 1\n",
    "        word = self.words[self.counter]\n",
    "        word = unidecode(word)\n",
    "        word = word.upper()\n",
    "        return word"
   ]
  },
  {
   "attachments": {},
   "cell_type": "markdown",
   "metadata": {},
   "source": [
    "#### Ouvrir des fichiers"
   ]
  },
  {
   "cell_type": "code",
   "execution_count": 863,
   "metadata": {},
   "outputs": [],
   "source": [
    "filename = 'mots.txt'\n",
    "\n",
    "fp = open(filename, 'r') # 'w', 'a'\n",
    "fp.read() # Lis tout le fichier\n",
    "fp.readline() # Lis la prochaine ligne\n",
    "fp.readlines() # Lis toutes les lignes \n",
    "fp.close()"
   ]
  },
  {
   "attachments": {},
   "cell_type": "markdown",
   "metadata": {},
   "source": [
    "Ou:"
   ]
  },
  {
   "cell_type": "code",
   "execution_count": 864,
   "metadata": {},
   "outputs": [],
   "source": [
    "words_table = []\n",
    "with open(filename,'r') as fd:\n",
    "    while line := fd.readline():\n",
    "        word = line.split('\\n')[0]\n",
    "        words_table.append(word)"
   ]
  },
  {
   "attachments": {},
   "cell_type": "markdown",
   "metadata": {},
   "source": [
    "#### Instanciation d'une classe"
   ]
  },
  {
   "cell_type": "code",
   "execution_count": 865,
   "metadata": {},
   "outputs": [
    {
     "name": "stdout",
     "output_type": "stream",
     "text": [
      "CHENE\n",
      "FURIEUX\n",
      "LOOPING\n",
      "RUISSEAU\n",
      "BRUTE\n",
      "TRUITE\n"
     ]
    }
   ],
   "source": [
    "mots = my_class(words_table)\n",
    "\n",
    "for k in range(len(words_table)):\n",
    "    print(next(mots))"
   ]
  },
  {
   "attachments": {},
   "cell_type": "markdown",
   "metadata": {},
   "source": [
    "## Tests, destructuration, zip, déréférencement et surcharge\n",
    "\n",
    "### Tests\n",
    "\n",
    "#### in\n",
    "\n",
    "Ce test permet de vérifier si une valeur souhaitée se trouve dans un conteneur"
   ]
  },
  {
   "cell_type": "code",
   "execution_count": 866,
   "metadata": {},
   "outputs": [
    {
     "data": {
      "text/plain": [
       "True"
      ]
     },
     "execution_count": 866,
     "metadata": {},
     "output_type": "execute_result"
    }
   ],
   "source": [
    "l = [1,2,3,4,5,6]\n",
    "5 in l"
   ]
  },
  {
   "cell_type": "code",
   "execution_count": 867,
   "metadata": {},
   "outputs": [
    {
     "data": {
      "text/plain": [
       "False"
      ]
     },
     "execution_count": 867,
     "metadata": {},
     "output_type": "execute_result"
    }
   ],
   "source": [
    "0 in l"
   ]
  },
  {
   "attachments": {},
   "cell_type": "markdown",
   "metadata": {},
   "source": [
    "#### all\n",
    "\n",
    "Retourne `True` si tous les éléments sont vrai"
   ]
  },
  {
   "cell_type": "code",
   "execution_count": 868,
   "metadata": {},
   "outputs": [
    {
     "data": {
      "text/plain": [
       "True"
      ]
     },
     "execution_count": 868,
     "metadata": {},
     "output_type": "execute_result"
    }
   ],
   "source": [
    "la = ['True', True, 1, 'Oiseau']\n",
    "all(la)"
   ]
  },
  {
   "cell_type": "code",
   "execution_count": 869,
   "metadata": {},
   "outputs": [
    {
     "data": {
      "text/plain": [
       "False"
      ]
     },
     "execution_count": 869,
     "metadata": {},
     "output_type": "execute_result"
    }
   ],
   "source": [
    "lna = [78, 'Truite', True, 'Fraise', False]\n",
    "all(lna)"
   ]
  },
  {
   "attachments": {},
   "cell_type": "markdown",
   "metadata": {},
   "source": [
    "#### any\n",
    "\n",
    "Retourn `True` si au moins un élément est vrai"
   ]
  },
  {
   "cell_type": "code",
   "execution_count": 870,
   "metadata": {},
   "outputs": [
    {
     "data": {
      "text/plain": [
       "True"
      ]
     },
     "execution_count": 870,
     "metadata": {},
     "output_type": "execute_result"
    }
   ],
   "source": [
    "any(lna)"
   ]
  },
  {
   "cell_type": "code",
   "execution_count": 871,
   "metadata": {},
   "outputs": [
    {
     "data": {
      "text/plain": [
       "False"
      ]
     },
     "execution_count": 871,
     "metadata": {},
     "output_type": "execute_result"
    }
   ],
   "source": [
    "lnaa = [0,0,0,0,0,0,None,False]\n",
    "any(lnaa)"
   ]
  },
  {
   "attachments": {},
   "cell_type": "markdown",
   "metadata": {},
   "source": [
    "### Destructuration\n",
    "\n",
    "La destructuration en Python permet, par exemple, d'échanger deux valeurs ou de récupérer\n",
    "la valeur de chaque élément d'une liste, d'un tuple ou d'un dictionnaire."
   ]
  },
  {
   "cell_type": "code",
   "execution_count": 872,
   "metadata": {},
   "outputs": [
    {
     "data": {
      "text/plain": [
       "(9, 5)"
      ]
     },
     "execution_count": 872,
     "metadata": {},
     "output_type": "execute_result"
    }
   ],
   "source": [
    "a = 9\n",
    "b = 5\n",
    "a, b"
   ]
  },
  {
   "cell_type": "code",
   "execution_count": 873,
   "metadata": {},
   "outputs": [
    {
     "data": {
      "text/plain": [
       "(5, 9)"
      ]
     },
     "execution_count": 873,
     "metadata": {},
     "output_type": "execute_result"
    }
   ],
   "source": [
    "a, b = b, a\n",
    "a, b    # les valeurs ont été échangée"
   ]
  },
  {
   "cell_type": "code",
   "execution_count": 874,
   "metadata": {},
   "outputs": [
    {
     "data": {
      "text/plain": [
       "(1, 2, 3, 4)"
      ]
     },
     "execution_count": 874,
     "metadata": {},
     "output_type": "execute_result"
    }
   ],
   "source": [
    "l = [1,2,3,4]\n",
    "a,b,c,d = l\n",
    "a,b,c,d"
   ]
  },
  {
   "cell_type": "code",
   "execution_count": 875,
   "metadata": {},
   "outputs": [
    {
     "data": {
      "text/plain": [
       "(51, 42)"
      ]
     },
     "execution_count": 875,
     "metadata": {},
     "output_type": "execute_result"
    }
   ],
   "source": [
    "d = {51: 'Apéro', 42: 'Réponse'}\n",
    "a, b = d\n",
    "a, b"
   ]
  },
  {
   "attachments": {},
   "cell_type": "markdown",
   "metadata": {},
   "source": [
    "Faire `a, b = d` ne prend que les clés du dictionnaire. Pour avoir les valeurs, voici ce qu'il faut faire:"
   ]
  },
  {
   "cell_type": "code",
   "execution_count": 876,
   "metadata": {},
   "outputs": [
    {
     "data": {
      "text/plain": [
       "('Apéro', 'Réponse')"
      ]
     },
     "execution_count": 876,
     "metadata": {},
     "output_type": "execute_result"
    }
   ],
   "source": [
    "a, b = d.values()\n",
    "a, b"
   ]
  },
  {
   "attachments": {},
   "cell_type": "markdown",
   "metadata": {},
   "source": [
    "La déstructuration d'une liste fonctionne aussi avec l'opérateur `*`. \\\n",
    "Suivant sa position, cela permet de récupérer, par exemple, la première valeur de la liste puis tout le reste dans une nouvelle variable/liste."
   ]
  },
  {
   "cell_type": "code",
   "execution_count": 877,
   "metadata": {},
   "outputs": [
    {
     "name": "stdout",
     "output_type": "stream",
     "text": [
      "1\n",
      "[2, 3, 4]\n"
     ]
    }
   ],
   "source": [
    "head, *reste = l\n",
    "print(head)\n",
    "print(reste)"
   ]
  },
  {
   "cell_type": "code",
   "execution_count": 878,
   "metadata": {},
   "outputs": [
    {
     "name": "stdout",
     "output_type": "stream",
     "text": [
      "[1, 2, 3]\n",
      "4\n"
     ]
    }
   ],
   "source": [
    "*head, reste = l\n",
    "print(head)\n",
    "print(reste)"
   ]
  },
  {
   "attachments": {},
   "cell_type": "markdown",
   "metadata": {},
   "source": [
    "En plus de tout cela, la desctructuration permet également d'extraire l'indice d'une valeur dans une boucle `for`."
   ]
  },
  {
   "cell_type": "code",
   "execution_count": 879,
   "metadata": {},
   "outputs": [
    {
     "name": "stdout",
     "output_type": "stream",
     "text": [
      "Indices: 0, Valeurs: 1\n",
      "Indices: 1, Valeurs: 2\n",
      "Indices: 2, Valeurs: 3\n",
      "Indices: 3, Valeurs: 4\n"
     ]
    }
   ],
   "source": [
    "for i, v in enumerate(l):\n",
    "    print(f'Indices: {i}, Valeurs: {v}')"
   ]
  },
  {
   "attachments": {},
   "cell_type": "markdown",
   "metadata": {},
   "source": [
    "### Zip\n",
    "Cet opérateur permet de \"fusionner\" deux listes ensemble."
   ]
  },
  {
   "cell_type": "code",
   "execution_count": 880,
   "metadata": {},
   "outputs": [
    {
     "data": {
      "text/plain": [
       "[('John', 'Doe'), ('Emmet', 'Brown'), ('Luke', 'Skywalker')]"
      ]
     },
     "execution_count": 880,
     "metadata": {},
     "output_type": "execute_result"
    }
   ],
   "source": [
    "firstnames = ['John', 'Emmet', 'Luke']\n",
    "lastnames = ['Doe', 'Brown', 'Skywalker']\n",
    "\n",
    "list(zip(firstnames, lastnames))"
   ]
  },
  {
   "attachments": {},
   "cell_type": "markdown",
   "metadata": {},
   "source": [
    "Pour que ce soit plus joli à l'affichage:"
   ]
  },
  {
   "cell_type": "code",
   "execution_count": 881,
   "metadata": {},
   "outputs": [
    {
     "data": {
      "text/plain": [
       "['John Doe', 'Emmet Brown', 'Luke Skywalker']"
      ]
     },
     "execution_count": 881,
     "metadata": {},
     "output_type": "execute_result"
    }
   ],
   "source": [
    "[' '.join(x) for x in list(zip(firstnames, lastnames))]"
   ]
  },
  {
   "attachments": {},
   "cell_type": "markdown",
   "metadata": {},
   "source": [
    "### Déréférencement\n",
    "Le déréférencement se fait à l'aide de `*args` ou `**kwargs` dans une fonction. \\\n",
    "Cela permet de récupéréer tous les arguments entrés dans la fonction"
   ]
  },
  {
   "cell_type": "code",
   "execution_count": 882,
   "metadata": {},
   "outputs": [],
   "source": [
    "def foo(*args, **kwargs):\n",
    "    print(args)\n",
    "    print(kwargs)"
   ]
  },
  {
   "cell_type": "code",
   "execution_count": 883,
   "metadata": {},
   "outputs": [
    {
     "name": "stdout",
     "output_type": "stream",
     "text": [
      "(8, 2, 3, 'pamplemousse', 42)\n",
      "{}\n"
     ]
    }
   ],
   "source": [
    "foo(8,2,3,'pamplemousse',42)"
   ]
  },
  {
   "attachments": {},
   "cell_type": "markdown",
   "metadata": {},
   "source": [
    "Une fonction utilisant le `**kwargs`:"
   ]
  },
  {
   "cell_type": "code",
   "execution_count": 884,
   "metadata": {},
   "outputs": [],
   "source": [
    "def operate(a, b, **kwargs):\n",
    "    if 'add' in kwargs:\n",
    "        print(f'{a}+{b} = {a+b}')\n",
    "    if 'sub' in kwargs:\n",
    "        print(f'{a}-{b} = {a-b}')"
   ]
  },
  {
   "cell_type": "code",
   "execution_count": 885,
   "metadata": {},
   "outputs": [
    {
     "name": "stdout",
     "output_type": "stream",
     "text": [
      "5+4 = 9\n",
      "5-4 = 1\n"
     ]
    }
   ],
   "source": [
    "operate(5, 4, add=True)\n",
    "operate(5, 4, sub=True)"
   ]
  },
  {
   "attachments": {},
   "cell_type": "markdown",
   "metadata": {},
   "source": [
    "### Surcharge\n",
    "La surcharge d'un opérateur permet de se passer, dans le cadre d'une classe, de l'appel de la fonction addition, par exemple."
   ]
  },
  {
   "cell_type": "code",
   "execution_count": 886,
   "metadata": {},
   "outputs": [],
   "source": [
    "class Number:\n",
    "    def __init__(self, number):\n",
    "        self.number = number\n",
    "    def __add__(self, number):\n",
    "        self.number += number"
   ]
  },
  {
   "cell_type": "code",
   "execution_count": 887,
   "metadata": {},
   "outputs": [
    {
     "data": {
      "text/plain": [
       "42"
      ]
     },
     "execution_count": 887,
     "metadata": {},
     "output_type": "execute_result"
    }
   ],
   "source": [
    "n = Number(42)\n",
    "n.number"
   ]
  },
  {
   "cell_type": "code",
   "execution_count": 888,
   "metadata": {},
   "outputs": [
    {
     "data": {
      "text/plain": [
       "51"
      ]
     },
     "execution_count": 888,
     "metadata": {},
     "output_type": "execute_result"
    }
   ],
   "source": [
    "n + 9\n",
    "n.number"
   ]
  },
  {
   "attachments": {},
   "cell_type": "markdown",
   "metadata": {},
   "source": [
    "## Compréhension, lambda, map et filter\n",
    "### Compréhension\n",
    "La compréhension permet de travailler avec une liste sans devoir passer par une boucle `for` et donc, d'optimiser le code."
   ]
  },
  {
   "cell_type": "code",
   "execution_count": 889,
   "metadata": {},
   "outputs": [
    {
     "data": {
      "text/plain": [
       "['Chat', 'Souris', 'Chien', 'Souris', 'Chat']"
      ]
     },
     "execution_count": 889,
     "metadata": {},
     "output_type": "execute_result"
    }
   ],
   "source": [
    "l = ['Chat','Souris','Chien','Souris','Chat']\n",
    "l"
   ]
  },
  {
   "attachments": {},
   "cell_type": "markdown",
   "metadata": {},
   "source": [
    "Admettons qu'il faut changer \"Chat\" par \"Tom\". En compréhension cela donne:"
   ]
  },
  {
   "cell_type": "code",
   "execution_count": 890,
   "metadata": {},
   "outputs": [
    {
     "data": {
      "text/plain": [
       "['Tom', 'Souris', 'Chien', 'Souris', 'Tom']"
      ]
     },
     "execution_count": 890,
     "metadata": {},
     "output_type": "execute_result"
    }
   ],
   "source": [
    "nl = ['Tom' if x=='Chat' else x for x in l]\n",
    "nl"
   ]
  },
  {
   "attachments": {},
   "cell_type": "markdown",
   "metadata": {},
   "source": [
    "### Lambda\n",
    "`lambda` est une fonction Python contenant qu'une seule expression. Elle permet de faire des fonctions simple si \n",
    "la compréhension deviet trop complexe."
   ]
  },
  {
   "cell_type": "code",
   "execution_count": 891,
   "metadata": {},
   "outputs": [
    {
     "data": {
      "text/plain": [
       "8"
      ]
     },
     "execution_count": 891,
     "metadata": {},
     "output_type": "execute_result"
    }
   ],
   "source": [
    "x = lambda a, b : a**b\n",
    "res = x(2, 3)\n",
    "res"
   ]
  },
  {
   "attachments": {},
   "cell_type": "markdown",
   "metadata": {},
   "source": [
    "### Map\n",
    "`map` est une fonction qui retourne un itérable du résultat."
   ]
  },
  {
   "cell_type": "code",
   "execution_count": 892,
   "metadata": {},
   "outputs": [
    {
     "name": "stdout",
     "output_type": "stream",
     "text": [
      "[2, 4, 6, 8]\n"
     ]
    }
   ],
   "source": [
    "def double_num(n):\n",
    "    return n + n\n",
    "\n",
    "t = (1, 2, 3, 4)\n",
    "\n",
    "res = map(double_num, t)\n",
    "print(list(res))"
   ]
  },
  {
   "attachments": {},
   "cell_type": "markdown",
   "metadata": {},
   "source": [
    "La fonction `map`peut être utilisée avec `lambda` pour afficher, par exemple, directement le résultat sans passer par une fonction."
   ]
  },
  {
   "cell_type": "code",
   "execution_count": 893,
   "metadata": {},
   "outputs": [
    {
     "name": "stdout",
     "output_type": "stream",
     "text": [
      "[10, 12, 14, 16]\n"
     ]
    }
   ],
   "source": [
    "t = (5, 6, 7, 8)\n",
    "res = map(lambda x: x + x, t)\n",
    "print(list(res))"
   ]
  },
  {
   "attachments": {},
   "cell_type": "markdown",
   "metadata": {},
   "source": [
    "### Filter\n",
    "La fonction `filter` permet de filtrer des éléments d'un conteneur selon une condition donnée. \\\n",
    "Comme pour `map`, `filter` peut être directement utilisé avec `lambda`, ce qui est le cas usuellement dans la programmation en Python"
   ]
  },
  {
   "cell_type": "code",
   "execution_count": 894,
   "metadata": {},
   "outputs": [
    {
     "data": {
      "text/plain": [
       "['souris', 'oiseau', 'ornythorynque']"
      ]
     },
     "execution_count": 894,
     "metadata": {},
     "output_type": "execute_result"
    }
   ],
   "source": [
    "mots = ['souris', 'chat', 'chien', 'singe', 'oiseau', 'ornythorynque']\n",
    "thr = 6\n",
    "mots_tri = list(filter(lambda x: len(x) >= thr, mots))\n",
    "mots_tri"
   ]
  },
  {
   "attachments": {},
   "cell_type": "markdown",
   "metadata": {},
   "source": [
    "## Namedtuple\n",
    "Le module `namedtuple` contribue à de faire des `tuple` qui permettent d'accéder aux valeurs avec\n",
    "noms descriptif et le `t.`au lieu des indices."
   ]
  },
  {
   "cell_type": "code",
   "execution_count": 895,
   "metadata": {},
   "outputs": [
    {
     "data": {
      "text/plain": [
       "Cat(name='Felix', genre='MALE')"
      ]
     },
     "execution_count": 895,
     "metadata": {},
     "output_type": "execute_result"
    }
   ],
   "source": [
    "from collections import namedtuple\n",
    "\n",
    "Cat = namedtuple('Cat',('name','genre'))\n",
    "c = Cat('Felix','MALE')\n",
    "c"
   ]
  },
  {
   "cell_type": "code",
   "execution_count": 896,
   "metadata": {},
   "outputs": [
    {
     "data": {
      "text/plain": [
       "'Felix'"
      ]
     },
     "execution_count": 896,
     "metadata": {},
     "output_type": "execute_result"
    }
   ],
   "source": [
    "c.name"
   ]
  },
  {
   "cell_type": "code",
   "execution_count": 897,
   "metadata": {},
   "outputs": [
    {
     "data": {
      "text/plain": [
       "'MALE'"
      ]
     },
     "execution_count": 897,
     "metadata": {},
     "output_type": "execute_result"
    }
   ],
   "source": [
    "c.genre"
   ]
  },
  {
   "cell_type": "code",
   "execution_count": 898,
   "metadata": {},
   "outputs": [],
   "source": [
    "#c.name = 'oops'"
   ]
  },
  {
   "attachments": {},
   "cell_type": "markdown",
   "metadata": {},
   "source": [
    "---------------------------------------------------------------------------\n",
    "AttributeError                            Traceback (most recent call last)\n",
    "Cell In[334], line 1\n",
    "----> 1 c.name = 'oops'\n",
    "\n",
    "AttributeError: can't set attribute"
   ]
  },
  {
   "attachments": {},
   "cell_type": "markdown",
   "metadata": {},
   "source": [
    "## Numpy\n",
    "Numpy est un module Python ayant comme particularité de faire des calculs matriciels (à l'image de MatLab). \\\n",
    "Car, en Python, il n'est pas possible de faire des opérations mathématiques avec deux listes, cela donnera un résultat\n",
    "totalement différent à ce qui est attendu. \\\n",
    "Exemple:"
   ]
  },
  {
   "cell_type": "code",
   "execution_count": 899,
   "metadata": {},
   "outputs": [
    {
     "data": {
      "text/plain": [
       "[1, 2, 3, 4, 5, 6]"
      ]
     },
     "execution_count": 899,
     "metadata": {},
     "output_type": "execute_result"
    }
   ],
   "source": [
    "l1 = [1,2,3]\n",
    "l2 = [4,5,6]\n",
    "\n",
    "l3 = l1+l2\n",
    "l3"
   ]
  },
  {
   "attachments": {},
   "cell_type": "markdown",
   "metadata": {},
   "source": [
    "Faire une addition entre deux listes équivaut à les concaténeer.\\\n",
    "Pour faire une addition entre deux listes (vecteurs) il faut utiliser le module Numpy."
   ]
  },
  {
   "cell_type": "code",
   "execution_count": 900,
   "metadata": {},
   "outputs": [
    {
     "data": {
      "text/plain": [
       "array([5, 7, 9])"
      ]
     },
     "execution_count": 900,
     "metadata": {},
     "output_type": "execute_result"
    }
   ],
   "source": [
    "import numpy as np\n",
    "\n",
    "v1 = np.array([1,2,3])\n",
    "v2 = np.array([4,5,6])\n",
    "\n",
    "v3 = v1+v2\n",
    "v3"
   ]
  },
  {
   "attachments": {},
   "cell_type": "markdown",
   "metadata": {},
   "source": [
    "Avec Numpy, c'est le monde de MatLab qui s'ouvre sur Python. Il est possible d'avoir toutes les fonctions mathématiques.\\\n",
    "Les matrices ou vecteurs créés avec Numpy sont également compatibles avec la notation des indices de Python."
   ]
  },
  {
   "cell_type": "code",
   "execution_count": 901,
   "metadata": {},
   "outputs": [
    {
     "data": {
      "text/plain": [
       "array([ 4, 10, 18])"
      ]
     },
     "execution_count": 901,
     "metadata": {},
     "output_type": "execute_result"
    }
   ],
   "source": [
    "v4 = v1*v2\n",
    "v4"
   ]
  },
  {
   "cell_type": "code",
   "execution_count": 902,
   "metadata": {},
   "outputs": [
    {
     "data": {
      "text/plain": [
       "array([ 1,  2,  3,  4,  5,  6,  7,  8,  9, 10])"
      ]
     },
     "execution_count": 902,
     "metadata": {},
     "output_type": "execute_result"
    }
   ],
   "source": [
    "v = np.arange(1,11)\n",
    "v"
   ]
  },
  {
   "cell_type": "code",
   "execution_count": 903,
   "metadata": {},
   "outputs": [
    {
     "data": {
      "text/plain": [
       "2"
      ]
     },
     "execution_count": 903,
     "metadata": {},
     "output_type": "execute_result"
    }
   ],
   "source": [
    "v[1]"
   ]
  },
  {
   "cell_type": "code",
   "execution_count": 904,
   "metadata": {},
   "outputs": [
    {
     "data": {
      "text/plain": [
       "10"
      ]
     },
     "execution_count": 904,
     "metadata": {},
     "output_type": "execute_result"
    }
   ],
   "source": [
    "v[-1]"
   ]
  },
  {
   "cell_type": "code",
   "execution_count": 905,
   "metadata": {},
   "outputs": [
    {
     "data": {
      "text/plain": [
       "array([4, 5, 6])"
      ]
     },
     "execution_count": 905,
     "metadata": {},
     "output_type": "execute_result"
    }
   ],
   "source": [
    "v[3:6]"
   ]
  },
  {
   "cell_type": "code",
   "execution_count": 906,
   "metadata": {},
   "outputs": [
    {
     "data": {
      "text/plain": [
       "array([ 0.84147098,  0.90929743,  0.14112001, -0.7568025 , -0.95892427,\n",
       "       -0.2794155 ,  0.6569866 ,  0.98935825,  0.41211849, -0.54402111])"
      ]
     },
     "execution_count": 906,
     "metadata": {},
     "output_type": "execute_result"
    }
   ],
   "source": [
    "s = np.sin(v)\n",
    "s"
   ]
  },
  {
   "cell_type": "code",
   "execution_count": 907,
   "metadata": {},
   "outputs": [
    {
     "data": {
      "text/plain": [
       "3.141592653589793"
      ]
     },
     "execution_count": 907,
     "metadata": {},
     "output_type": "execute_result"
    }
   ],
   "source": [
    "pi = np.pi\n",
    "pi"
   ]
  },
  {
   "attachments": {},
   "cell_type": "markdown",
   "metadata": {},
   "source": [
    "## Click\n",
    "Click est un module Python assurant l'entrée d'arguments avec le clavier de l'ordinateur.\\\n",
    "Cela fonctionne avec des décorateurs placés avant la fonction souhaitée."
   ]
  },
  {
   "cell_type": "code",
   "execution_count": 908,
   "metadata": {},
   "outputs": [
    {
     "data": {
      "text/plain": [
       "\"\\nimport click\\n\\n@click.command()\\n@click.argument('a', type=float)\\n@click.argument('b', type=float)\\n@click.argument('c', type=float)\\ndef resolve_quad(a, b, c):\\n    delta = b**2 - 4*a*c\\n\\n    x1 = (-b + delta**0.5)/(2*a)\\n    x2 = (-b - delta**0.5)/(2*a)\\n\\n    click.echo(f'X1 = {x1}')\\n    click.echo(f'X2 = {x2}')\\n\\n\\nif __name__ == '__main__':\\n    resolve_quad()\\n\""
      ]
     },
     "execution_count": 908,
     "metadata": {},
     "output_type": "execute_result"
    }
   ],
   "source": [
    "\"\"\"\n",
    "import click\n",
    "\n",
    "@click.command()\n",
    "@click.argument('a', type=float)\n",
    "@click.argument('b', type=float)\n",
    "@click.argument('c', type=float)\n",
    "def resolve_quad(a, b, c):\n",
    "    delta = b**2 - 4*a*c\n",
    "\n",
    "    x1 = (-b + delta**0.5)/(2*a)\n",
    "    x2 = (-b - delta**0.5)/(2*a)\n",
    "\n",
    "    click.echo(f'X1 = {x1}')\n",
    "    click.echo(f'X2 = {x2}')\n",
    "\n",
    "\n",
    "if __name__ == '__main__':\n",
    "    resolve_quad()\n",
    "\"\"\""
   ]
  },
  {
   "attachments": {},
   "cell_type": "markdown",
   "metadata": {},
   "source": [
    "## Pandas\n",
    "Pandas est un module Python utilisé pour le traitement de données.\\\n",
    "Ce module est ainsi fait pour pouvoir traiter des centaines de milliers de données\\\n",
    "stockées dans un fichier csv par exemple."
   ]
  },
  {
   "cell_type": "code",
   "execution_count": 909,
   "metadata": {},
   "outputs": [
    {
     "data": {
      "text/html": [
       "<div>\n",
       "<style scoped>\n",
       "    .dataframe tbody tr th:only-of-type {\n",
       "        vertical-align: middle;\n",
       "    }\n",
       "\n",
       "    .dataframe tbody tr th {\n",
       "        vertical-align: top;\n",
       "    }\n",
       "\n",
       "    .dataframe thead th {\n",
       "        text-align: right;\n",
       "    }\n",
       "</style>\n",
       "<table border=\"1\" class=\"dataframe\">\n",
       "  <thead>\n",
       "    <tr style=\"text-align: right;\">\n",
       "      <th></th>\n",
       "      <th>Unnamed: 0</th>\n",
       "      <th>A</th>\n",
       "      <th>B</th>\n",
       "      <th>C</th>\n",
       "      <th>D</th>\n",
       "    </tr>\n",
       "  </thead>\n",
       "  <tbody>\n",
       "    <tr>\n",
       "      <th>0</th>\n",
       "      <td>2000-01-01</td>\n",
       "      <td>-0.543391</td>\n",
       "      <td>-0.709364</td>\n",
       "      <td>-0.155659</td>\n",
       "      <td>-0.657926</td>\n",
       "    </tr>\n",
       "    <tr>\n",
       "      <th>1</th>\n",
       "      <td>2000-01-02</td>\n",
       "      <td>-2.314978</td>\n",
       "      <td>-1.822206</td>\n",
       "      <td>-0.807061</td>\n",
       "      <td>-0.784460</td>\n",
       "    </tr>\n",
       "    <tr>\n",
       "      <th>2</th>\n",
       "      <td>2000-01-03</td>\n",
       "      <td>-4.001682</td>\n",
       "      <td>-1.717682</td>\n",
       "      <td>-1.443619</td>\n",
       "      <td>-0.260029</td>\n",
       "    </tr>\n",
       "    <tr>\n",
       "      <th>3</th>\n",
       "      <td>2000-01-04</td>\n",
       "      <td>-5.380479</td>\n",
       "      <td>-1.623373</td>\n",
       "      <td>-0.792619</td>\n",
       "      <td>-1.176698</td>\n",
       "    </tr>\n",
       "    <tr>\n",
       "      <th>4</th>\n",
       "      <td>2000-01-05</td>\n",
       "      <td>-7.003829</td>\n",
       "      <td>-1.557467</td>\n",
       "      <td>0.171087</td>\n",
       "      <td>-1.083572</td>\n",
       "    </tr>\n",
       "  </tbody>\n",
       "</table>\n",
       "</div>"
      ],
      "text/plain": [
       "   Unnamed: 0         A         B         C         D\n",
       "0  2000-01-01 -0.543391 -0.709364 -0.155659 -0.657926\n",
       "1  2000-01-02 -2.314978 -1.822206 -0.807061 -0.784460\n",
       "2  2000-01-03 -4.001682 -1.717682 -1.443619 -0.260029\n",
       "3  2000-01-04 -5.380479 -1.623373 -0.792619 -1.176698\n",
       "4  2000-01-05 -7.003829 -1.557467  0.171087 -1.083572"
      ]
     },
     "execution_count": 909,
     "metadata": {},
     "output_type": "execute_result"
    }
   ],
   "source": [
    "import pandas as pd\n",
    "\n",
    "decimals = 2\n",
    "file = \"foo.csv\"\n",
    "\n",
    "df = pd.read_csv(file, sep=\",\")\n",
    "df.head()"
   ]
  },
  {
   "attachments": {},
   "cell_type": "markdown",
   "metadata": {},
   "source": [
    "Renommage de la colonne Unnamed par date:"
   ]
  },
  {
   "cell_type": "code",
   "execution_count": 910,
   "metadata": {},
   "outputs": [
    {
     "data": {
      "text/html": [
       "<div>\n",
       "<style scoped>\n",
       "    .dataframe tbody tr th:only-of-type {\n",
       "        vertical-align: middle;\n",
       "    }\n",
       "\n",
       "    .dataframe tbody tr th {\n",
       "        vertical-align: top;\n",
       "    }\n",
       "\n",
       "    .dataframe thead th {\n",
       "        text-align: right;\n",
       "    }\n",
       "</style>\n",
       "<table border=\"1\" class=\"dataframe\">\n",
       "  <thead>\n",
       "    <tr style=\"text-align: right;\">\n",
       "      <th></th>\n",
       "      <th>Date</th>\n",
       "      <th>A</th>\n",
       "      <th>B</th>\n",
       "      <th>C</th>\n",
       "      <th>D</th>\n",
       "    </tr>\n",
       "  </thead>\n",
       "  <tbody>\n",
       "    <tr>\n",
       "      <th>0</th>\n",
       "      <td>2000-01-01</td>\n",
       "      <td>-0.543391</td>\n",
       "      <td>-0.709364</td>\n",
       "      <td>-0.155659</td>\n",
       "      <td>-0.657926</td>\n",
       "    </tr>\n",
       "    <tr>\n",
       "      <th>1</th>\n",
       "      <td>2000-01-02</td>\n",
       "      <td>-2.314978</td>\n",
       "      <td>-1.822206</td>\n",
       "      <td>-0.807061</td>\n",
       "      <td>-0.784460</td>\n",
       "    </tr>\n",
       "    <tr>\n",
       "      <th>2</th>\n",
       "      <td>2000-01-03</td>\n",
       "      <td>-4.001682</td>\n",
       "      <td>-1.717682</td>\n",
       "      <td>-1.443619</td>\n",
       "      <td>-0.260029</td>\n",
       "    </tr>\n",
       "    <tr>\n",
       "      <th>3</th>\n",
       "      <td>2000-01-04</td>\n",
       "      <td>-5.380479</td>\n",
       "      <td>-1.623373</td>\n",
       "      <td>-0.792619</td>\n",
       "      <td>-1.176698</td>\n",
       "    </tr>\n",
       "    <tr>\n",
       "      <th>4</th>\n",
       "      <td>2000-01-05</td>\n",
       "      <td>-7.003829</td>\n",
       "      <td>-1.557467</td>\n",
       "      <td>0.171087</td>\n",
       "      <td>-1.083572</td>\n",
       "    </tr>\n",
       "  </tbody>\n",
       "</table>\n",
       "</div>"
      ],
      "text/plain": [
       "         Date         A         B         C         D\n",
       "0  2000-01-01 -0.543391 -0.709364 -0.155659 -0.657926\n",
       "1  2000-01-02 -2.314978 -1.822206 -0.807061 -0.784460\n",
       "2  2000-01-03 -4.001682 -1.717682 -1.443619 -0.260029\n",
       "3  2000-01-04 -5.380479 -1.623373 -0.792619 -1.176698\n",
       "4  2000-01-05 -7.003829 -1.557467  0.171087 -1.083572"
      ]
     },
     "execution_count": 910,
     "metadata": {},
     "output_type": "execute_result"
    }
   ],
   "source": [
    "df = df.rename(columns = {'Unnamed: 0': 'Date'})\n",
    "df.head()"
   ]
  },
  {
   "cell_type": "code",
   "execution_count": 911,
   "metadata": {},
   "outputs": [
    {
     "data": {
      "text/plain": [
       "Date     object\n",
       "A       float64\n",
       "B       float64\n",
       "C       float64\n",
       "D       float64\n",
       "dtype: object"
      ]
     },
     "execution_count": 911,
     "metadata": {},
     "output_type": "execute_result"
    }
   ],
   "source": [
    "df.dtypes"
   ]
  },
  {
   "attachments": {},
   "cell_type": "markdown",
   "metadata": {},
   "source": [
    "Suppression d'une colonne"
   ]
  },
  {
   "cell_type": "code",
   "execution_count": 912,
   "metadata": {},
   "outputs": [
    {
     "data": {
      "text/html": [
       "<div>\n",
       "<style scoped>\n",
       "    .dataframe tbody tr th:only-of-type {\n",
       "        vertical-align: middle;\n",
       "    }\n",
       "\n",
       "    .dataframe tbody tr th {\n",
       "        vertical-align: top;\n",
       "    }\n",
       "\n",
       "    .dataframe thead th {\n",
       "        text-align: right;\n",
       "    }\n",
       "</style>\n",
       "<table border=\"1\" class=\"dataframe\">\n",
       "  <thead>\n",
       "    <tr style=\"text-align: right;\">\n",
       "      <th></th>\n",
       "      <th>Date</th>\n",
       "      <th>A</th>\n",
       "      <th>B</th>\n",
       "      <th>C</th>\n",
       "    </tr>\n",
       "  </thead>\n",
       "  <tbody>\n",
       "    <tr>\n",
       "      <th>0</th>\n",
       "      <td>2000-01-01</td>\n",
       "      <td>-0.543391</td>\n",
       "      <td>-0.709364</td>\n",
       "      <td>-0.155659</td>\n",
       "    </tr>\n",
       "    <tr>\n",
       "      <th>1</th>\n",
       "      <td>2000-01-02</td>\n",
       "      <td>-2.314978</td>\n",
       "      <td>-1.822206</td>\n",
       "      <td>-0.807061</td>\n",
       "    </tr>\n",
       "    <tr>\n",
       "      <th>2</th>\n",
       "      <td>2000-01-03</td>\n",
       "      <td>-4.001682</td>\n",
       "      <td>-1.717682</td>\n",
       "      <td>-1.443619</td>\n",
       "    </tr>\n",
       "    <tr>\n",
       "      <th>3</th>\n",
       "      <td>2000-01-04</td>\n",
       "      <td>-5.380479</td>\n",
       "      <td>-1.623373</td>\n",
       "      <td>-0.792619</td>\n",
       "    </tr>\n",
       "    <tr>\n",
       "      <th>4</th>\n",
       "      <td>2000-01-05</td>\n",
       "      <td>-7.003829</td>\n",
       "      <td>-1.557467</td>\n",
       "      <td>0.171087</td>\n",
       "    </tr>\n",
       "  </tbody>\n",
       "</table>\n",
       "</div>"
      ],
      "text/plain": [
       "         Date         A         B         C\n",
       "0  2000-01-01 -0.543391 -0.709364 -0.155659\n",
       "1  2000-01-02 -2.314978 -1.822206 -0.807061\n",
       "2  2000-01-03 -4.001682 -1.717682 -1.443619\n",
       "3  2000-01-04 -5.380479 -1.623373 -0.792619\n",
       "4  2000-01-05 -7.003829 -1.557467  0.171087"
      ]
     },
     "execution_count": 912,
     "metadata": {},
     "output_type": "execute_result"
    }
   ],
   "source": [
    "df = df.drop(['D'], axis = 1)\n",
    "df.head()"
   ]
  },
  {
   "attachments": {},
   "cell_type": "markdown",
   "metadata": {},
   "source": [
    "Ici, Pandas n'est présenté que de manière succinte, pour plus de dézail voir labo03 du cours ou suivre le tutoriel de Pandas."
   ]
  },
  {
   "attachments": {},
   "cell_type": "markdown",
   "metadata": {},
   "source": [
    "## Jinja2 et Flask\n",
    "Les modules Jinja2 et Flask sont utilisés pour faire du HTML avec Python.\\\n",
    "Pour cela, il faut avoir un template HTML et ces modules travailleront avec ledit template."
   ]
  },
  {
   "cell_type": "code",
   "execution_count": 913,
   "metadata": {},
   "outputs": [],
   "source": [
    "from jinja2 import Environment, FileSystemLoader, select_autoescape\n",
    "env = Environment(\n",
    "    loader=FileSystemLoader('templates/'),\n",
    "    autoescape=select_autoescape()\n",
    ")\n",
    "\n",
    "data = [\n",
    "    {\n",
    "        'name': 'Ballons',\n",
    "        'variants': [\n",
    "            {'name': 'Taille 5', 'price': 23},\n",
    "            {'name': 'Taille 4', 'price': 21}\n",
    "        ]\n",
    "    },\n",
    "    {\n",
    "        'name': 'Chaussures',\n",
    "        'variants': [\n",
    "            {'name': 'Taille 42', 'price': 120},\n",
    "            {'name': 'Taille 43', 'price': 130}\n",
    "        ]\n",
    "    }\n",
    "]\n",
    "\n",
    "template = env.get_template('template_articles.html')\n",
    "\n",
    "with open('BonSportif.html', 'w') as fp:\n",
    "    fp.write(template.render(articles=data))"
   ]
  }
 ],
 "metadata": {
  "kernelspec": {
   "display_name": "Python 3 (ipykernel)",
   "language": "python",
   "name": "python3"
  },
  "language_info": {
   "codemirror_mode": {
    "name": "ipython",
    "version": 3
   },
   "file_extension": ".py",
   "mimetype": "text/x-python",
   "name": "python",
   "nbconvert_exporter": "python",
   "pygments_lexer": "ipython3",
   "version": "3.10.6"
  }
 },
 "nbformat": 4,
 "nbformat_minor": 2
}
